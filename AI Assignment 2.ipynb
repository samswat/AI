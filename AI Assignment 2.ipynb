{
 "cells": [
  {
   "cell_type": "code",
   "execution_count": 10,
   "id": "b9845f91",
   "metadata": {},
   "outputs": [
    {
     "name": "stdout",
     "output_type": "stream",
     "text": [
      "Path found: ['A', 'B', 'D']\n"
     ]
    },
    {
     "data": {
      "text/plain": [
       "['A', 'B', 'D']"
      ]
     },
     "execution_count": 10,
     "metadata": {},
     "output_type": "execute_result"
    }
   ],
   "source": [
    "from collections import deque\n",
    " \n",
    "class Graph:\n",
    "    def __init__(self, adjac_lis): #Constructer to initialise the list\n",
    "        self.adjac_lis = adjac_lis\n",
    " \n",
    "    def get_neighbors(self, v): #Function to get the neighbors\n",
    "        return self.adjac_lis[v]\n",
    " \n",
    "    def h(self, n): #Heuristic function which is having equal values for all nodes\n",
    "        H = {'A': 1,'B': 1,'C': 1,'D': 1}\n",
    "        return H[n]\n",
    " \n",
    "    def A_Star(self, start, stop):\n",
    "        open_lst = set([start]) #List of nodes which have been visited, but who's neighbours haven't all been always inspected\n",
    "        closed_lst = set([])  #List of nodes which have been visited and who's neighbors have been always inspected\n",
    "        poo = {} #poo has present distances from start to all other nodes\n",
    "        poo[start] = 0\n",
    "        par = {} #par contains an adjac mapping of all nodes\n",
    "        par[start] = start\n",
    " \n",
    "        while len(open_lst) > 0: #While the open_lst is not empty\n",
    "            n = None\n",
    " \n",
    "            #Finding a node with the lowest value of f() -\n",
    "            for v in open_lst:\n",
    "                if n == None or poo[v] + self.h(v) < poo[n] + self.h(n):\n",
    "                    n = v;\n",
    " \n",
    "            if n == None:\n",
    "                print('Path does not exist!')\n",
    "                return None\n",
    "            \n",
    "            #If the current node is the stop then we start again from start\n",
    "            \n",
    "            if n == stop:\n",
    "                reconst_path = []\n",
    " \n",
    "                while par[n] != n:\n",
    "                    reconst_path.append(n)\n",
    "                    n = par[n]\n",
    " \n",
    "                reconst_path.append(start)\n",
    " \n",
    "                reconst_path.reverse()\n",
    " \n",
    "                print('Path found: {}'.format(reconst_path))\n",
    "                return reconst_path\n",
    " \n",
    "            for (m, weight) in self.get_neighbors(n): # Checking for neighbors in the open and closed lists\n",
    "                if m not in open_lst and m not in closed_lst: #If the current node is not presentin both open_lst and closed_lst add it to open_lst and note n as it's par\n",
    "                    open_lst.add(m)\n",
    "                    par[m] = n\n",
    "                    poo[m] = poo[n] + weight\n",
    " \n",
    "                else: #Else check if it's quicker to first visit n, then m and if it is, update par data and poo data\n",
    "                    if poo[m] > poo[n] + weight:\n",
    "                        poo[m] = poo[n] + weight\n",
    "                        par[m] = n\n",
    " \n",
    "                        if m in closed_lst: #if the node was in the closed_lst, move it to open_lst\n",
    "                            closed_lst.remove(m)\n",
    "                            open_lst.add(m)\n",
    "                \n",
    "            #Remove n from the open_lst, and add it to closed_lst because all of his neighbors were inspected\n",
    "            open_lst.remove(n)\n",
    "            closed_lst.add(n) \n",
    " \n",
    "        print('Path does not exist!')\n",
    "        return None\n",
    "    \n",
    "#Input\n",
    "adjac_lis = {'A': [('B', 1), ('C', 3), ('D', 7)],'B': [('D', 5)],'C': [('D', 12)]}\n",
    "graph1 = Graph(adjac_lis)\n",
    "graph1.A_Star('A', 'D')"
   ]
  }
 ],
 "metadata": {
  "kernelspec": {
   "display_name": "Python 3 (ipykernel)",
   "language": "python",
   "name": "python3"
  },
  "language_info": {
   "codemirror_mode": {
    "name": "ipython",
    "version": 3
   },
   "file_extension": ".py",
   "mimetype": "text/x-python",
   "name": "python",
   "nbconvert_exporter": "python",
   "pygments_lexer": "ipython3",
   "version": "3.9.7"
  }
 },
 "nbformat": 4,
 "nbformat_minor": 5
}
