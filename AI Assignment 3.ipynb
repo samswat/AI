{
 "cells": [
  {
   "cell_type": "code",
   "execution_count": 4,
   "id": "46157a58",
   "metadata": {},
   "outputs": [
    {
     "name": "stdout",
     "output_type": "stream",
     "text": [
      "Edges in the constructed MST\n",
      "2 -- 3 == 4\n",
      "0 -- 3 == 5\n",
      "0 -- 1 == 10\n",
      "Minimum Spanning Tree 19\n"
     ]
    }
   ],
   "source": [
    "from collections import defaultdict\n",
    "class Graph: #Class to represent a graph\n",
    "    def __init__(self, vertices): #Constructor to initialise variables\n",
    "        self.V = vertices\n",
    "        self.graph = []\n",
    "\n",
    "    def addEdge(self, u, v, w): #Function to add an edge to graph\n",
    "        self.graph.append([u, v, w])\n",
    "\n",
    "    def find(self, parent, i): #Function to find set of an element\n",
    "        if parent[i] == i:\n",
    "            return i\n",
    "        return self.find(parent, parent[i])\n",
    "    \n",
    "    def union(self, parent, rank, x, y): #Function for union of two sets\n",
    "        xroot = self.find(parent, x)\n",
    "        yroot = self.find(parent, y)\n",
    " \n",
    "        # Attach smaller rank tree under root of high rank tree (Union by Rank)\n",
    "        if rank[xroot] < rank[yroot]:\n",
    "            parent[xroot] = yroot\n",
    "        elif rank[xroot] > rank[yroot]:\n",
    "            parent[yroot] = xroot\n",
    "        else: # If ranks are same, then make one as root and increment its rank by one\n",
    "            parent[yroot] = xroot\n",
    "            rank[xroot] += 1\n",
    "\n",
    "    def KruskalMST(self): #Function to construct MST using Kruskal's algorithm\n",
    "        MST = []  # MST Variable\n",
    "        i = 0 #index variable, used for sorted edges\n",
    "        e = 0 #index variable, used for result[]\n",
    "        self.graph = sorted(self.graph,key=lambda item: item[2]) #Sorting all the edges in non-decreasing order of their weight. \n",
    "        parent = []\n",
    "        rank = []\n",
    "        # Create V subsets with single elements\n",
    "        for node in range(self.V):\n",
    "            parent.append(node)\n",
    "            rank.append(0)\n",
    " \n",
    "        while e < self.V - 1:\n",
    "            #Pick the smallest edge and increment the index for next iteration\n",
    "            u, v, w = self.graph[i]\n",
    "            i = i + 1\n",
    "            x = self.find(parent, u)\n",
    "            y = self.find(parent, v)\n",
    "            \n",
    "            if x != y: #If including this edge doesn't cause cycle, include it in result and increment the index of result for next edge\n",
    "                e = e + 1\n",
    "                MST.append([u, v, w])\n",
    "                self.union(parent, rank, x, y)\n",
    "            # Else discard the edge\n",
    "\n",
    "        minimumCost = 0\n",
    "        print (\"Edges in the constructed MST\")\n",
    "        for u, v, weight in MST:\n",
    "            minimumCost += weight\n",
    "            print(\"%d -- %d == %d\" % (u, v, weight))\n",
    "        print(\"Minimum Spanning Tree\" , minimumCost)\n",
    "\n",
    "#Input\n",
    "g = Graph(4)\n",
    "g.addEdge(0, 1, 10)\n",
    "g.addEdge(0, 2, 6)\n",
    "g.addEdge(0, 3, 5)\n",
    "g.addEdge(1, 3, 15)\n",
    "g.addEdge(2, 3, 4)\n",
    "g.KruskalMST()"
   ]
  }
 ],
 "metadata": {
  "kernelspec": {
   "display_name": "Python 3 (ipykernel)",
   "language": "python",
   "name": "python3"
  },
  "language_info": {
   "codemirror_mode": {
    "name": "ipython",
    "version": 3
   },
   "file_extension": ".py",
   "mimetype": "text/x-python",
   "name": "python",
   "nbconvert_exporter": "python",
   "pygments_lexer": "ipython3",
   "version": "3.9.7"
  }
 },
 "nbformat": 4,
 "nbformat_minor": 5
}
