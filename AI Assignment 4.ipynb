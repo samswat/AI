{
 "cells": [
  {
   "cell_type": "code",
   "execution_count": 9,
   "id": "ba990f02",
   "metadata": {},
   "outputs": [
    {
     "name": "stdout",
     "output_type": "stream",
     "text": [
      "0100\n",
      "0010\n",
      "0001\n",
      "0000\n"
     ]
    },
    {
     "data": {
      "text/plain": [
       "True"
      ]
     },
     "execution_count": 9,
     "metadata": {},
     "output_type": "execute_result"
    }
   ],
   "source": [
    "N = 4\n",
    "def printSolution(board): #Function to print end solution\n",
    "    for i in range(N):\n",
    "        for j in range(N):\n",
    "            print(board[i][j],end = '')\n",
    "        print()\n",
    "\n",
    "def isSafe(board,row,col): #Function to check if its safe to place the queen in the each row of the coloumn\n",
    "    for i in range(col):\n",
    "        if board[row][i] == 1:\n",
    "            return False\n",
    "    for i,j in zip(range(row,-1,-1),range(col,-1,-1)):\n",
    "        if board[i][j] == 2:\n",
    "            return False\n",
    "    for i,j in zip(range(row,N,1),range(col,-1,-1)):\n",
    "        if board[i][j] == 1:\n",
    "            return False\n",
    "    return True\n",
    "\n",
    "def solveNQUtil(board,col): #Recursive Function to update the board\n",
    "    if col >= N:\n",
    "        return True\n",
    "    for i in range(N):\n",
    "        if isSafe(board,i,col):\n",
    "            board[i][col] = 1\n",
    "            if solveNQUtil(board,col+1) == True:\n",
    "                return True\n",
    "            board[i][col] = 0\n",
    "            return False\n",
    "        \n",
    "def solveNQ():\n",
    "    board = [[0,0,0,0],\n",
    "            [0,0,0,0],\n",
    "            [0,0,0,0],\n",
    "            [0,0,0,0]]\n",
    "    if solveNQUtil(board,1) == False:\n",
    "        print (\"Solution does not exist\")\n",
    "        return False\n",
    "    printSolution(board)\n",
    "    return True\n",
    "\n",
    "solveNQ()"
   ]
  },
  {
   "cell_type": "code",
   "execution_count": 24,
   "id": "545c1cef",
   "metadata": {},
   "outputs": [
    {
     "name": "stdout",
     "output_type": "stream",
     "text": [
      "Color Assigned to vertex 0 is BLUE\n",
      "Color Assigned to vertex 1 is GREEN\n",
      "Color Assigned to vertex 2 is BLUE\n",
      "Color Assigned to vertex 3 is RED\n",
      "Color Assigned to vertex 4 is RED\n",
      "Color Assigned to vertex 5 is GREEN\n",
      "Color Assigned to vertex 6 is BLUE\n",
      "Color Assigned to vertex 7 is BLUE\n"
     ]
    }
   ],
   "source": [
    "class Graph: #class for the map/graph\n",
    "    def __init__(self,edges,n): #Constructor to initialize list\n",
    "        self.adjList = [[] for _ in range (n)]\n",
    "        for src,dest in edges:\n",
    "            self.adjList[src].append(dest)\n",
    "            self.adjList[dest].append(src)\n",
    "    def colorGraph(graph,n):\n",
    "        result = {}\n",
    "        for u in range(n):\n",
    "            assigned = set([result.get(i) for i in graph.adjList[u] if i in result])\n",
    "            color = 1\n",
    "            for c in assigned:\n",
    "                if color != c:\n",
    "                    break\n",
    "                color += 1\n",
    "            result[u] = color\n",
    "        for v in range(n):\n",
    "            print(f\"Color Assigned to vertex {v} is {colors[result[v]]}\")\n",
    "            \n",
    "    if __name__ == \"__main__\":\n",
    "        colors = ['','BLUE','GREEN','RED','YELLOW','ORANGE','PINK','BLACK','BROWN','WHITE','PURPLE','VIOLET']\n",
    "        edges = [(0,1),(0,4),(0,5),(4,5),(1,4),(1,3),(2,3),(2,4)]\n",
    "        n = 8\n",
    "        graph = Graph(edges,n)\n",
    "        colorGraph(graph,n)"
   ]
  }
 ],
 "metadata": {
  "kernelspec": {
   "display_name": "Python 3 (ipykernel)",
   "language": "python",
   "name": "python3"
  },
  "language_info": {
   "codemirror_mode": {
    "name": "ipython",
    "version": 3
   },
   "file_extension": ".py",
   "mimetype": "text/x-python",
   "name": "python",
   "nbconvert_exporter": "python",
   "pygments_lexer": "ipython3",
   "version": "3.9.7"
  }
 },
 "nbformat": 4,
 "nbformat_minor": 5
}
